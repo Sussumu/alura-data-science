{
 "cells": [
  {
   "cell_type": "code",
   "execution_count": 2,
   "metadata": {},
   "outputs": [
    {
     "name": "stdout",
     "output_type": "stream",
     "text": [
      "215 110\n"
     ]
    }
   ],
   "source": [
    "import pandas as pd\n",
    "import seaborn as sns\n",
    "import matplotlib.pyplot as plt\n",
    "\n",
    "ratings = pd.read_csv(\"ml-latest-small/ratings.csv\")\n",
    "toy_story_ratings = ratings.query(\"movieId==1\")\n",
    "jumanji_ratings = ratings.query(\"movieId==2\")\n",
    "\n",
    "print(len(toy_story_ratings), len(jumanji_ratings))"
   ]
  },
  {
   "cell_type": "code",
   "execution_count": 3,
   "metadata": {},
   "outputs": [
    {
     "name": "stdout",
     "output_type": "stream",
     "text": [
      "Mean average of Toy Story 3.92\n",
      "Mean average of Jumanji 3.43\n"
     ]
    }
   ],
   "source": [
    "print(\"Mean average of Toy Story %.2f\" % toy_story_ratings.rating.mean())\n",
    "print(\"Mean average of Jumanji %.2f\" % jumanji_ratings.rating.mean())"
   ]
  },
  {
   "cell_type": "markdown",
   "metadata": {},
   "source": [
    "# Diferença entre visualizações:"
   ]
  },
  {
   "cell_type": "code",
   "execution_count": 4,
   "metadata": {},
   "outputs": [
    {
     "data": {
      "text/plain": [
       "<AxesSubplot:xlabel='rating'>"
      ]
     },
     "execution_count": 4,
     "metadata": {},
     "output_type": "execute_result"
    },
    {
     "data": {
      "image/png": "[encoded data removed]",
      "text/plain": [
       "<Figure size 432x288 with 1 Axes>"
      ]
     },
     "metadata": {
      "needs_background": "light"
     },
     "output_type": "display_data"
    }
   ],
   "source": [
    "sns.boxplot(x=toy_story_ratings.rating)\n",
    "sns.boxplot(x=jumanji_ratings.rating)"
   ]
  },
  {
   "cell_type": "code",
   "execution_count": 5,
   "metadata": {},
   "outputs": [
    {
     "data": {
      "text/plain": [
       "{'whiskers': [<matplotlib.lines.Line2D at 0x1efdab89e20>,\n",
       "  <matplotlib.lines.Line2D at 0x1efdab961c0>,\n",
       "  <matplotlib.lines.Line2D at 0x1efdaba4670>,\n",
       "  <matplotlib.lines.Line2D at 0x1efdaba49d0>],\n",
       " 'caps': [<matplotlib.lines.Line2D at 0x1efdab96520>,\n",
       "  <matplotlib.lines.Line2D at 0x1efdab96880>,\n",
       "  <matplotlib.lines.Line2D at 0x1efdaba4d30>,\n",
       "  <matplotlib.lines.Line2D at 0x1efdabb00d0>],\n",
       " 'boxes': [<matplotlib.lines.Line2D at 0x1efdab89ac0>,\n",
       "  <matplotlib.lines.Line2D at 0x1efdaba42e0>],\n",
       " 'medians': [<matplotlib.lines.Line2D at 0x1efdab96be0>,\n",
       "  <matplotlib.lines.Line2D at 0x1efdabb0430>],\n",
       " 'fliers': [<matplotlib.lines.Line2D at 0x1efdab96f40>,\n",
       "  <matplotlib.lines.Line2D at 0x1efdabb0790>],\n",
       " 'means': []}"
      ]
     },
     "execution_count": 5,
     "metadata": {},
     "output_type": "execute_result"
    },
    {
     "data": {
      "image/png": "[encoded data removed]",
      "text/plain": [
       "<Figure size 432x288 with 1 Axes>"
      ]
     },
     "metadata": {
      "needs_background": "light"
     },
     "output_type": "display_data"
    }
   ],
   "source": [
    "plt.boxplot([toy_story_ratings.rating, jumanji_ratings.rating])"
   ]
  },
  {
   "cell_type": "code",
   "execution_count": 6,
   "metadata": {},
   "outputs": [
    {
     "data": {
      "text/plain": [
       "<AxesSubplot:xlabel='movieId', ylabel='rating'>"
      ]
     },
     "execution_count": 6,
     "metadata": {},
     "output_type": "execute_result"
    },
    {
     "data": {
      "image/png": "[encoded data removed]",
      "text/plain": [
       "<Figure size 432x288 with 1 Axes>"
      ]
     },
     "metadata": {
      "needs_background": "light"
     },
     "output_type": "display_data"
    }
   ],
   "source": [
    "sns.boxplot(x=\"movieId\", y=\"rating\", data=ratings.query(\"movieId in [1,2]\"))"
   ]
  },
  {
   "cell_type": "code",
   "execution_count": 9,
   "metadata": {},
   "outputs": [
    {
     "name": "stdout",
     "output_type": "stream",
     "text": [
      "0.8348591407114045\n",
      "0.8817134921476455\n"
     ]
    }
   ],
   "source": [
    "print(toy_story_ratings.rating.std())\n",
    "print(jumanji_ratings.rating.std())"
   ]
  }
 ],
 "metadata": {
  "interpreter": {
   "hash": "a53ceabf47d28d2bba89a71776e28108f0d60ebbb5215aa12963357d3d09d2a2"
  },
  "kernelspec": {
   "display_name": "Python 3.8.8 64-bit ('base': conda)",
   "name": "python3"
  },
  "language_info": {
   "codemirror_mode": {
    "name": "ipython",
    "version": 3
   },
   "file_extension": ".py",
   "mimetype": "text/x-python",
   "name": "python",
   "nbconvert_exporter": "python",
   "pygments_lexer": "ipython3",
   "version": "3.8.8"
  },
  "orig_nbformat": 4
 },
 "nbformat": 4,
 "nbformat_minor": 2
}
